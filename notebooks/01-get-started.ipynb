{
 "cells": [
  {
   "cell_type": "markdown",
   "metadata": {},
   "source": [
    "# 01. Get Started\n",
    "\n",
    "This notebooks show you how to setup the tools and run basic prompts with Mistral via Ollama."
   ]
  },
  {
   "cell_type": "markdown",
   "metadata": {
    "vscode": {
     "languageId": "plaintext"
    }
   },
   "source": [
    "## Install Ollama\n",
    "\n",
    "Follow this example guide to setup Ollama on your machine: \n",
    "[Example guide](https://kontext.tech/article/1367/genai-generate-sql-from-text-via-ollama-python-library-on-local).\n",
    "\n",
    "If your computer comes with Nvidia GPU that supports CUDA, you can install [Nvidia CUDA toolkit](https://developer.nvidia.com/cuda-toolkit) to offload models to GPU.\n",
    "\n",
    "Once it is installed, run the following command in a shalle or Command Prompt to start the service:\n",
    "\n",
    "```bash\n",
    "ollama serve\n",
    "```"
   ]
  },
  {
   "cell_type": "markdown",
   "metadata": {},
   "source": [
    "## Install Semantic Kernel\n",
    "\n",
    "Run the following F# (fsharp) cell to install the packages."
   ]
  },
  {
   "cell_type": "code",
   "execution_count": 6,
   "metadata": {
    "dotnet_interactive": {
     "language": "csharp"
    },
    "polyglot_notebook": {
     "kernelName": "csharp"
    },
    "vscode": {
     "languageId": "polyglot-notebook"
    }
   },
   "outputs": [
    {
     "data": {
      "text/html": [
       "<div><div></div><div></div><div><strong>Installed Packages</strong><ul><li><span>Microsoft.SemanticKernel, 1.11.1</span></li></ul></div></div>"
      ]
     },
     "metadata": {},
     "output_type": "display_data"
    }
   ],
   "source": [
    "#r \"nuget: Microsoft.SemanticKernel, 1.11.1\""
   ]
  },
  {
   "cell_type": "markdown",
   "metadata": {
    "vscode": {
     "languageId": "polyglot-notebook"
    }
   },
   "source": [
    "## Instantiate the kernel"
   ]
  },
  {
   "cell_type": "code",
   "execution_count": 9,
   "metadata": {
    "dotnet_interactive": {
     "language": "csharp"
    },
    "polyglot_notebook": {
     "kernelName": "csharp"
    },
    "vscode": {
     "languageId": "polyglot-notebook"
    }
   },
   "outputs": [],
   "source": [
    "#pragma warning disable SKEXP0010\n",
    "using Microsoft.SemanticKernel;\n",
    "using Kernel = Microsoft.SemanticKernel.Kernel;\n",
    "\n",
    "var modelId = \"mistral\";\n",
    "// local Ollama endpoint\n",
    "var endpoint = new Uri(\"http://localhost:11434\");\n",
    "\n",
    "var kernelBuilder = Kernel.CreateBuilder();\n",
    "var kernel = kernelBuilder\n",
    "    .AddOpenAIChatCompletion(\n",
    "        modelId,\n",
    "        endpoint,\n",
    "        apiKey:null) \n",
    "    .Build();\n",
    "\n",
    "#pragma warning restore SKEXP0010"
   ]
  },
  {
   "cell_type": "markdown",
   "metadata": {
    "vscode": {
     "languageId": "polyglot-notebook"
    }
   },
   "source": [
    "## Chat example\n",
    "\n",
    "The following code shows you how to use the `IChatCompletionService` to answer questions."
   ]
  },
  {
   "cell_type": "code",
   "execution_count": 27,
   "metadata": {
    "dotnet_interactive": {
     "language": "csharp"
    },
    "polyglot_notebook": {
     "kernelName": "csharp"
    },
    "vscode": {
     "languageId": "polyglot-notebook"
    }
   },
   "outputs": [
    {
     "name": "stdout",
     "output_type": "stream",
     "text": [
      " Sure! Here's a simple example of a SQL query in Snowflake. This query will select the \"order_id\" and \"total_amount\" columns from a table named \"orders\", where the \"customer_id\" is equal to a given value:\n",
      "\n",
      "```sql\n",
      "SELECT order_id, total_amount\n",
      "FROM orders\n",
      "WHERE customer_id = <given_customer_id>;\n",
      "```\n",
      "\n",
      "Replace `<given_customer_id>` with the actual value you want to filter by. Also, make sure the table \"orders\" exists in your Snowflake database and that you have the necessary permissions to query it.\r\n"
     ]
    }
   ],
   "source": [
    "using Microsoft.SemanticKernel.ChatCompletion;\n",
    "using Microsoft.SemanticKernel;\n",
    "using Microsoft.SemanticKernel.Connectors.OpenAI;\n",
    "\n",
    "var chatService = kernel.GetRequiredService<IChatCompletionService>();\n",
    "\n",
    "ChatHistory chat = new();\n",
    "chat.AddSystemMessage(\"You are a data analytics AI assistant from Kontext.\");\n",
    "\n",
    "var executionSettings = new OpenAIPromptExecutionSettings\n",
    "{\n",
    "    MaxTokens = 1000,\n",
    "    Temperature = 0.5,\n",
    "    TopP = 1,\n",
    "    FrequencyPenalty = 0,\n",
    "    PresencePenalty = 0,\n",
    "    StopSequences = new[] { \"Human:\", \"AI:\" },\n",
    "};\n",
    "var prompt = \"Can you show me an example of SQL query in Snowflake?\";\n",
    "var response = await chatService.GetChatMessageContentAsync(prompt,executionSettings);\n",
    "Console.WriteLine(response.Content);"
   ]
  },
  {
   "cell_type": "code",
   "execution_count": 28,
   "metadata": {
    "dotnet_interactive": {
     "language": "csharp"
    },
    "polyglot_notebook": {
     "kernelName": "csharp"
    },
    "vscode": {
     "languageId": "polyglot-notebook"
    }
   },
   "outputs": [
    {
     "data": {
      "text/html": [
       "<span><a href=\"https://docs.microsoft.com/dotnet/api/microsoft.semantickernel.connectors.openai.openaichatmessagecontent?view=net-7.0\">Microsoft.SemanticKernel.Connectors.OpenAI.OpenAIChatMessageContent</a></span>"
      ]
     },
     "metadata": {},
     "output_type": "display_data"
    }
   ],
   "source": [
    "display(response.GetType());"
   ]
  },
  {
   "cell_type": "code",
   "execution_count": null,
   "metadata": {
    "dotnet_interactive": {
     "language": "csharp"
    },
    "polyglot_notebook": {
     "kernelName": "csharp"
    },
    "vscode": {
     "languageId": "polyglot-notebook"
    }
   },
   "outputs": [],
   "source": [
    "response.Display();"
   ]
  }
 ],
 "metadata": {
  "kernelspec": {
   "display_name": ".NET (C#)",
   "language": "C#",
   "name": ".net-csharp"
  },
  "language_info": {
   "name": "python"
  },
  "polyglot_notebook": {
   "kernelInfo": {
    "defaultKernelName": "csharp",
    "items": [
     {
      "aliases": [],
      "name": "csharp"
     }
    ]
   }
  }
 },
 "nbformat": 4,
 "nbformat_minor": 2
}
