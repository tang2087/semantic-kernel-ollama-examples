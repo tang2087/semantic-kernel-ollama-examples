{
 "cells": [
  {
   "cell_type": "markdown",
   "metadata": {},
   "source": [
    "# 01. Get Started\n",
    "\n",
    "This notebooks show you how to setup the tools and run basic prompts with Mistral via Ollama."
   ]
  },
  {
   "cell_type": "markdown",
   "metadata": {
    "vscode": {
     "languageId": "plaintext"
    }
   },
   "source": [
    "## Install Ollama\n",
    "\n",
    "Follow this example guide to setup Ollama on your machine: \n",
    "[Example guide](https://kontext.tech/article/1367/genai-generate-sql-from-text-via-ollama-python-library-on-local).\n",
    "\n",
    "If your computer comes with Nvidia GPU that supports CUDA, you can install [Nvidia CUDA toolkit](https://developer.nvidia.com/cuda-toolkit) to offload models to GPU.\n",
    "\n",
    "Once it is installed, run the following command in a shalle or Command Prompt to start the service:\n",
    "\n",
    "```bash\n",
    "ollama serve\n",
    "```\n",
    "\n",
    "The command line may prints out logs like the following:\n",
    "\n",
    "```\n",
    "2024/05/13 08:47:55 routes.go:1006: INFO server config env=\"map[OLLAMA_DEBUG:false OLLAMA_LLM_LIBRARY: OLLAMA_MAX_LOADED_MODELS:1 OLLAMA_MAX_QUEUE:512 OLLAMA_MAX_VRAM:0 OLLAMA_NOPRUNE:false OLLAMA_NUM_PARALLEL:1 OLLAMA_ORIGINS:[http://localhost https://localhost http://localhost:* https://localhost:* http://127.0.0.1 https://127.0.0.1 http://127.0.0.1:* https://127.0.0.1:* http://0.0.0.0 https://0.0.0.0 http://0.0.0.0:* https://0.0.0.0:*] OLLAMA_RUNNERS_DIR:C:\\\\Users\\\\***\\\\AppData\\\\Local\\\\Programs\\\\Ollama\\\\ollama_runners OLLAMA_TMPDIR:]\"\n",
    "time=2024-05-13T08:47:55.323+10:00 level=INFO source=images.go:704 msg=\"total blobs: 33\"\n",
    "time=2024-05-13T08:47:55.541+10:00 level=INFO source=images.go:711 msg=\"total unused blobs removed: 0\"\n",
    "time=2024-05-13T08:47:55.552+10:00 level=INFO source=routes.go:1052 msg=\"Listening on 127.0.0.1:11434 (version 0.1.37)\"\n",
    "time=2024-05-13T08:47:55.558+10:00 level=INFO source=payload.go:44 msg=\"Dynamic LLM libraries [cpu cpu_avx cpu_avx2 cuda_v11.3 rocm_v5.7]\"\n",
    "time=2024-05-13T08:47:55.800+10:00 level=INFO source=types.go:71 msg=\"inference compute\" id=GPU-b41fb7cf-1510-984f-9380-506810b9e128 library=cuda compute=6.1 driver=12.4 name=\"NVIDIA GeForce GTX 1060\" total=\"6.0 GiB\" available=\"5.1 GiB\"\n",
    "```"
   ]
  },
  {
   "cell_type": "markdown",
   "metadata": {},
   "source": [
    "## Install Semantic Kernel\n",
    "\n",
    "Run the following F# (fsharp) cell to install the packages."
   ]
  },
  {
   "cell_type": "code",
   "execution_count": 6,
   "metadata": {
    "dotnet_interactive": {
     "language": "fsharp"
    },
    "polyglot_notebook": {
     "kernelName": "fsharp"
    },
    "vscode": {
     "languageId": "polyglot-notebook"
    }
   },
   "outputs": [
    {
     "data": {
      "text/html": [
       "<div><div></div><div></div><div><strong>Installed Packages</strong><ul><li><span>Microsoft.SemanticKernel, 1.11.1</span></li></ul></div></div>"
      ]
     },
     "metadata": {},
     "output_type": "display_data"
    }
   ],
   "source": [
    "#r \"nuget: Microsoft.SemanticKernel, 1.11.1\""
   ]
  },
  {
   "cell_type": "markdown",
   "metadata": {
    "vscode": {
     "languageId": "polyglot-notebook"
    }
   },
   "source": [
    "## Instantiate the kernel"
   ]
  },
  {
   "cell_type": "code",
   "execution_count": 9,
   "metadata": {
    "dotnet_interactive": {
     "language": "csharp"
    },
    "polyglot_notebook": {
     "kernelName": "csharp"
    },
    "vscode": {
     "languageId": "polyglot-notebook"
    }
   },
   "outputs": [],
   "source": [
    "#pragma warning disable SKEXP0010\n",
    "using Microsoft.SemanticKernel;\n",
    "using Kernel = Microsoft.SemanticKernel.Kernel;\n",
    "\n",
    "var modelId = \"mistral\";\n",
    "// local Ollama endpoint\n",
    "var endpoint = new Uri(\"http://localhost:11434\");\n",
    "\n",
    "var kernelBuilder = Kernel.CreateBuilder();\n",
    "var kernel = kernelBuilder\n",
    "    .AddOpenAIChatCompletion(\n",
    "        modelId,\n",
    "        new Uri(\"http://localhost:11434\"),\n",
    "        apiKey:null) \n",
    "    .Build();\n",
    "\n",
    "#pragma warning restore SKEXP0010"
   ]
  },
  {
   "cell_type": "markdown",
   "metadata": {
    "vscode": {
     "languageId": "polyglot-notebook"
    }
   },
   "source": [
    "## Chat example\n",
    "\n",
    "The following code shows you how to use the `IChatCompletionService` to answer questions."
   ]
  },
  {
   "cell_type": "code",
   "execution_count": 27,
   "metadata": {
    "dotnet_interactive": {
     "language": "csharp"
    },
    "polyglot_notebook": {
     "kernelName": "csharp"
    },
    "vscode": {
     "languageId": "polyglot-notebook"
    }
   },
   "outputs": [
    {
     "name": "stdout",
     "output_type": "stream",
     "text": [
      " Sure! Here's a simple example of a SQL query in Snowflake. This query will select the \"order_id\" and \"total_amount\" columns from a table named \"orders\", where the \"customer_id\" is equal to a given value:\n",
      "\n",
      "```sql\n",
      "SELECT order_id, total_amount\n",
      "FROM orders\n",
      "WHERE customer_id = <given_customer_id>;\n",
      "```\n",
      "\n",
      "Replace `<given_customer_id>` with the actual value you want to filter by. Also, make sure the table \"orders\" exists in your Snowflake database and that you have the necessary permissions to query it.\r\n"
     ]
    }
   ],
   "source": [
    "using Microsoft.SemanticKernel.ChatCompletion;\n",
    "using Microsoft.SemanticKernel;\n",
    "using Microsoft.SemanticKernel.Connectors.OpenAI;\n",
    "\n",
    "var chatService = kernel.GetRequiredService<IChatCompletionService>();\n",
    "\n",
    "ChatHistory chat = new();\n",
    "chat.AddSystemMessage(\"You are a data analytics AI assistant from Kontext.\");\n",
    "\n",
    "var executionSettings = new OpenAIPromptExecutionSettings\n",
    "{\n",
    "    MaxTokens = 1000,\n",
    "    Temperature = 0.5,\n",
    "    TopP = 1,\n",
    "    FrequencyPenalty = 0,\n",
    "    PresencePenalty = 0,\n",
    "    StopSequences = new[] { \"Human:\", \"AI:\" },\n",
    "};\n",
    "var prompt = \"Can you show me an example of SQL query in Snowflake?\";\n",
    "var response = await chatService.GetChatMessageContentAsync(prompt,executionSettings);\n",
    "Console.WriteLine(response.Content);"
   ]
  },
  {
   "cell_type": "code",
   "execution_count": 28,
   "metadata": {
    "dotnet_interactive": {
     "language": "csharp"
    },
    "polyglot_notebook": {
     "kernelName": "csharp"
    },
    "vscode": {
     "languageId": "polyglot-notebook"
    }
   },
   "outputs": [
    {
     "data": {
      "text/html": [
       "<span><a href=\"https://docs.microsoft.com/dotnet/api/microsoft.semantickernel.connectors.openai.openaichatmessagecontent?view=net-7.0\">Microsoft.SemanticKernel.Connectors.OpenAI.OpenAIChatMessageContent</a></span>"
      ]
     },
     "metadata": {},
     "output_type": "display_data"
    }
   ],
   "source": [
    "display(response.GetType());"
   ]
  },
  {
   "cell_type": "code",
   "execution_count": 29,
   "metadata": {
    "dotnet_interactive": {
     "language": "csharp"
    },
    "polyglot_notebook": {
     "kernelName": "csharp"
    },
    "vscode": {
     "languageId": "polyglot-notebook"
    }
   },
   "outputs": [
    {
     "data": {
      "text/html": [
       "<details open=\"open\" class=\"dni-treeview\"><summary><span class=\"dni-code-hint\"><code>Sure! Here&#39;s a simple example of a SQL query in Snowflake. This query will select the &quot;order_id&quot; and &quot;total_amount&quot; columns from a table named &quot;orders&quot;, where the &quot;customer_id&quot; is equal to a given value:\\n\\n```sql\\nSELECT order_id, total_amount\\nFROM orders\\nWHERE customer_id = &lt;given_customer_id&gt;;\\...</code></span></summary><div><table><thead><tr></tr></thead><tbody><tr><td>ToolCalls</td><td><details class=\"dni-treeview\"><summary><span class=\"dni-code-hint\"><code>[  ]</code></span></summary><div><table><thead><tr></tr></thead><tbody><tr><td>IsUndefined</td><td><div class=\"dni-plaintext\"><pre>True</pre></div></td></tr><tr><td>Count</td><td><div class=\"dni-plaintext\"><pre>0</pre></div></td></tr><tr><td>IsReadOnly</td><td><div class=\"dni-plaintext\"><pre>False</pre></div></td></tr><tr><td><i>(values)</i></td><td><i>(empty)</i></td></tr></tbody></table></div></details></td></tr><tr><td>AuthorName</td><td><div class=\"dni-plaintext\"><pre>&lt;null&gt;</pre></div></td></tr><tr><td>Role</td><td><details class=\"dni-treeview\"><summary><span class=\"dni-code-hint\"><code>assistant</code></span></summary><div><table><thead><tr></tr></thead><tbody><tr><td>Label</td><td><div class=\"dni-plaintext\"><pre>assistant</pre></div></td></tr></tbody></table></div></details></td></tr><tr><td>Content</td><td><div class=\"dni-plaintext\"><pre> Sure! Here&#39;s a simple example of a SQL query in Snowflake. This query will select the &quot;order_id&quot; and &quot;total_amount&quot; columns from a table named &quot;orders&quot;, where the &quot;customer_id&quot; is equal to a given value:\n",
       "\n",
       "```sql\n",
       "SELECT order_id, total_amount\n",
       "FROM orders\n",
       "WHERE customer_id = &lt;given_customer_id&gt;;\n",
       "```\n",
       "\n",
       "Replace `&lt;given_customer_id&gt;` with the actual value you want to filter by. Also, make sure the table &quot;orders&quot; exists in your Snowflake database and that you have the necessary permissions to query it.</pre></div></td></tr><tr><td>Items</td><td><details class=\"dni-treeview\"><summary><span class=\"dni-code-hint\"><code>[  Sure! Here&#39;s a simple example of a SQL query in Snowflake. This query will select the &quot;order_id&quot; and &quot;total_amount&quot; columns from a table named &quot;orders&quot;, where the &quot;customer_id&quot; is equal to a given value:\n",
       "\n",
       "```sql\n",
       "SELECT order_id, total_amount\n",
       "FROM orders\n",
       "WHERE customer_id = &lt;given_customer_id&gt;;\n",
       "```\n",
       "\n",
       "Replace `&lt;given_customer_id&gt;` with the actual value you want to filter by. Also, make sure the table &quot;orders&quot; exists in your Snowflake database and that you have the necessary permissions to query it. ]</code></span></summary><div><table><thead><tr></tr></thead><tbody><tr><td>Count</td><td><div class=\"dni-plaintext\"><pre>1</pre></div></td></tr><tr><td><i>(values)</i></td><td><table><thead><tr><th><i>index</i></th><th>value</th></tr></thead><tbody><tr><td>0</td><td><details class=\"dni-treeview\"><summary><span class=\"dni-code-hint\"><code>Sure! Here&#39;s a simple example of a SQL query in Snowflake. This query will select the &quot;order_id&quot; and &quot;total_amount&quot; columns from a table named &quot;orders&quot;, where the &quot;customer_id&quot; is equal to a given value:\\n\\n```sql\\nSELECT order_id, total_amount\\nFROM orders\\nWHERE customer_id = &lt;given_customer_id&gt;;\\...</code></span></summary><div><table><thead><tr></tr></thead><tbody><tr><td>Text</td><td><div class=\"dni-plaintext\"><pre> Sure! Here&#39;s a simple example of a SQL query in Snowflake. This query will select the &quot;order_id&quot; and &quot;total_amount&quot; columns from a table named &quot;orders&quot;, where the &quot;customer_id&quot; is equal to a given value:\n",
       "\n",
       "```sql\n",
       "SELECT order_id, total_amount\n",
       "FROM orders\n",
       "WHERE customer_id = &lt;given_customer_id&gt;;\n",
       "```\n",
       "\n",
       "Replace `&lt;given_customer_id&gt;` with the actual value you want to filter by. Also, make sure the table &quot;orders&quot; exists in your Snowflake database and that you have the necessary permissions to query it.</pre></div></td></tr><tr><td>Encoding</td><td><details class=\"dni-treeview\"><summary><span class=\"dni-code-hint\"><code>System.Text.UTF8Encoding+UTF8EncodingSealed</code></span></summary><div><table><thead><tr></tr></thead><tbody><tr><td>Preamble</td><td><div class=\"dni-plaintext\"><pre>System.Text.UTF8Encoding+UTF8EncodingSealed</pre></div></td></tr><tr><td>BodyName</td><td><div class=\"dni-plaintext\"><pre>utf-8</pre></div></td></tr><tr><td>EncodingName</td><td><div class=\"dni-plaintext\"><pre>Unicode (UTF-8)</pre></div></td></tr><tr><td>HeaderName</td><td><div class=\"dni-plaintext\"><pre>utf-8</pre></div></td></tr><tr><td>WebName</td><td><div class=\"dni-plaintext\"><pre>utf-8</pre></div></td></tr><tr><td>WindowsCodePage</td><td><div class=\"dni-plaintext\"><pre>1200</pre></div></td></tr><tr><td>IsBrowserDisplay</td><td><div class=\"dni-plaintext\"><pre>True</pre></div></td></tr><tr><td>IsBrowserSave</td><td><div class=\"dni-plaintext\"><pre>True</pre></div></td></tr><tr><td>IsMailNewsDisplay</td><td><div class=\"dni-plaintext\"><pre>True</pre></div></td></tr><tr><td>IsMailNewsSave</td><td><div class=\"dni-plaintext\"><pre>True</pre></div></td></tr><tr><td>IsSingleByte</td><td><div class=\"dni-plaintext\"><pre>False</pre></div></td></tr><tr><td>EncoderFallback</td><td><details class=\"dni-treeview\"><summary><span class=\"dni-code-hint\"><code>System.Text.EncoderReplacementFallback</code></span></summary><div><table><thead><tr></tr></thead><tbody><tr><td>DefaultString</td><td><div class=\"dni-plaintext\"><pre>�</pre></div></td></tr><tr><td>MaxCharCount</td><td><div class=\"dni-plaintext\"><pre>1</pre></div></td></tr></tbody></table></div></details></td></tr><tr><td>DecoderFallback</td><td><details class=\"dni-treeview\"><summary><span class=\"dni-code-hint\"><code>System.Text.DecoderReplacementFallback</code></span></summary><div><table><thead><tr></tr></thead><tbody><tr><td>DefaultString</td><td><div class=\"dni-plaintext\"><pre>�</pre></div></td></tr><tr><td>MaxCharCount</td><td><div class=\"dni-plaintext\"><pre>1</pre></div></td></tr></tbody></table></div></details></td></tr><tr><td>IsReadOnly</td><td><div class=\"dni-plaintext\"><pre>True</pre></div></td></tr><tr><td>CodePage</td><td><div class=\"dni-plaintext\"><pre>65001</pre></div></td></tr></tbody></table></div></details></td></tr><tr><td>InnerContent</td><td><details class=\"dni-treeview\"><summary><span class=\"dni-code-hint\"><code>Azure.AI.OpenAI.ChatResponseMessage</code></span></summary><div><table><thead><tr></tr></thead><tbody><tr><td>Role</td><td><details class=\"dni-treeview\"><summary><span class=\"dni-code-hint\"><code>assistant</code></span></summary><div><table><thead><tr></tr></thead><tbody></tbody></table></div></details></td></tr><tr><td>Content</td><td><div class=\"dni-plaintext\"><pre> Sure! Here&#39;s a simple example of a SQL query in Snowflake. This query will select the &quot;order_id&quot; and &quot;total_amount&quot; columns from a table named &quot;orders&quot;, where the &quot;customer_id&quot; is equal to a given value:\n",
       "\n",
       "```sql\n",
       "SELECT order_id, total_amount\n",
       "FROM orders\n",
       "WHERE customer_id = &lt;given_customer_id&gt;;\n",
       "```\n",
       "\n",
       "Replace `&lt;given_customer_id&gt;` with the actual value you want to filter by. Also, make sure the table &quot;orders&quot; exists in your Snowflake database and that you have the necessary permissions to query it.</pre></div></td></tr><tr><td>ToolCalls</td><td><details class=\"dni-treeview\"><summary><span class=\"dni-code-hint\"><code>[  ]</code></span></summary><div><table><thead><tr></tr></thead><tbody><tr><td>IsUndefined</td><td><div class=\"dni-plaintext\"><pre>True</pre></div></td></tr><tr><td>Count</td><td><div class=\"dni-plaintext\"><pre>0</pre></div></td></tr><tr><td>IsReadOnly</td><td><div class=\"dni-plaintext\"><pre>False</pre></div></td></tr><tr><td><i>(values)</i></td><td><i>(empty)</i></td></tr></tbody></table></div></details></td></tr><tr><td>FunctionCall</td><td><div class=\"dni-plaintext\"><pre>&lt;null&gt;</pre></div></td></tr><tr><td>AzureExtensionsContext</td><td><div class=\"dni-plaintext\"><pre>&lt;null&gt;</pre></div></td></tr></tbody></table></div></details></td></tr><tr><td>ModelId</td><td><div class=\"dni-plaintext\"><pre>mistral</pre></div></td></tr><tr><td>Metadata</td><td><table><thead><tr><th><i>key</i></th><th><i>type</i></th><th>value</th></tr></thead><tbody><tr><td><div class=\"dni-plaintext\"><pre>Id</pre></div></td><td><span><a href=\"https://docs.microsoft.com/dotnet/api/system.string?view=net-7.0\">System.String</a></span></td><td><div class=\"dni-plaintext\"><pre>chatcmpl-538</pre></div></td></tr><tr><td><div class=\"dni-plaintext\"><pre>Created</pre></div></td><td><span><a href=\"https://docs.microsoft.com/dotnet/api/system.datetimeoffset?view=net-7.0\">System.DateTimeOffset</a></span></td><td><span>2024-05-13 11:05:18Z</span></td></tr><tr><td><div class=\"dni-plaintext\"><pre>PromptFilterResults</pre></div></td><td>Azure.AI.OpenAI.ChangeTrackingList&lt;Azure.AI.OpenAI.ContentFilterResultsForPrompt&gt;</td><td></td></tr><tr><td><div class=\"dni-plaintext\"><pre>SystemFingerprint</pre></div></td><td><span><a href=\"https://docs.microsoft.com/dotnet/api/system.string?view=net-7.0\">System.String</a></span></td><td><div class=\"dni-plaintext\"><pre>fp_ollama</pre></div></td></tr><tr><td><div class=\"dni-plaintext\"><pre>Usage</pre></div></td><td>Azure.AI.OpenAI.CompletionsUsage</td><td><details class=\"dni-treeview\"><summary><span class=\"dni-code-hint\"><code>Azure.AI.OpenAI.CompletionsUsage</code></span></summary><div><table><thead><tr></tr></thead><tbody><tr><td>CompletionTokens</td><td><div class=\"dni-plaintext\"><pre>141</pre></div></td></tr><tr><td>PromptTokens</td><td><div class=\"dni-plaintext\"><pre>18</pre></div></td></tr><tr><td>TotalTokens</td><td><div class=\"dni-plaintext\"><pre>159</pre></div></td></tr></tbody></table></div></details></td></tr><tr><td><div class=\"dni-plaintext\"><pre>ContentFilterResults</pre></div></td><td><div class=\"dni-plaintext\"><pre>&lt;null&gt;</pre></div></td><td><div class=\"dni-plaintext\"><pre>&lt;null&gt;</pre></div></td></tr><tr><td><div class=\"dni-plaintext\"><pre>FinishReason</pre></div></td><td><span><a href=\"https://docs.microsoft.com/dotnet/api/system.string?view=net-7.0\">System.String</a></span></td><td><div class=\"dni-plaintext\"><pre>stop</pre></div></td></tr><tr><td><div class=\"dni-plaintext\"><pre>FinishDetails</pre></div></td><td><div class=\"dni-plaintext\"><pre>&lt;null&gt;</pre></div></td><td><div class=\"dni-plaintext\"><pre>&lt;null&gt;</pre></div></td></tr><tr><td><div class=\"dni-plaintext\"><pre>LogProbabilityInfo</pre></div></td><td><div class=\"dni-plaintext\"><pre>&lt;null&gt;</pre></div></td><td><div class=\"dni-plaintext\"><pre>&lt;null&gt;</pre></div></td></tr><tr><td><div class=\"dni-plaintext\"><pre>Index</pre></div></td><td><span><a href=\"https://docs.microsoft.com/dotnet/api/system.int32?view=net-7.0\">System.Int32</a></span></td><td><div class=\"dni-plaintext\"><pre>0</pre></div></td></tr><tr><td><div class=\"dni-plaintext\"><pre>Enhancements</pre></div></td><td><div class=\"dni-plaintext\"><pre>&lt;null&gt;</pre></div></td><td><div class=\"dni-plaintext\"><pre>&lt;null&gt;</pre></div></td></tr></tbody></table></td></tr><tr><td>MimeType</td><td><div class=\"dni-plaintext\"><pre>&lt;null&gt;</pre></div></td></tr></tbody></table></div></details></td></tr></tbody></table></td></tr></tbody></table></div></details></td></tr><tr><td>Encoding</td><td><details class=\"dni-treeview\"><summary><span class=\"dni-code-hint\"><code>System.Text.UTF8Encoding+UTF8EncodingSealed</code></span></summary><div><table><thead><tr></tr></thead><tbody><tr><td>Preamble</td><td><div class=\"dni-plaintext\"><pre>System.Text.UTF8Encoding+UTF8EncodingSealed</pre></div></td></tr><tr><td>BodyName</td><td><div class=\"dni-plaintext\"><pre>utf-8</pre></div></td></tr><tr><td>EncodingName</td><td><div class=\"dni-plaintext\"><pre>Unicode (UTF-8)</pre></div></td></tr><tr><td>HeaderName</td><td><div class=\"dni-plaintext\"><pre>utf-8</pre></div></td></tr><tr><td>WebName</td><td><div class=\"dni-plaintext\"><pre>utf-8</pre></div></td></tr><tr><td>WindowsCodePage</td><td><div class=\"dni-plaintext\"><pre>1200</pre></div></td></tr><tr><td>IsBrowserDisplay</td><td><div class=\"dni-plaintext\"><pre>True</pre></div></td></tr><tr><td>IsBrowserSave</td><td><div class=\"dni-plaintext\"><pre>True</pre></div></td></tr><tr><td>IsMailNewsDisplay</td><td><div class=\"dni-plaintext\"><pre>True</pre></div></td></tr><tr><td>IsMailNewsSave</td><td><div class=\"dni-plaintext\"><pre>True</pre></div></td></tr><tr><td>IsSingleByte</td><td><div class=\"dni-plaintext\"><pre>False</pre></div></td></tr><tr><td>EncoderFallback</td><td><details class=\"dni-treeview\"><summary><span class=\"dni-code-hint\"><code>System.Text.EncoderReplacementFallback</code></span></summary><div><table><thead><tr></tr></thead><tbody><tr><td>DefaultString</td><td><div class=\"dni-plaintext\"><pre>�</pre></div></td></tr><tr><td>MaxCharCount</td><td><div class=\"dni-plaintext\"><pre>1</pre></div></td></tr></tbody></table></div></details></td></tr><tr><td>DecoderFallback</td><td><details class=\"dni-treeview\"><summary><span class=\"dni-code-hint\"><code>System.Text.DecoderReplacementFallback</code></span></summary><div><table><thead><tr></tr></thead><tbody><tr><td>DefaultString</td><td><div class=\"dni-plaintext\"><pre>�</pre></div></td></tr><tr><td>MaxCharCount</td><td><div class=\"dni-plaintext\"><pre>1</pre></div></td></tr></tbody></table></div></details></td></tr><tr><td>IsReadOnly</td><td><div class=\"dni-plaintext\"><pre>True</pre></div></td></tr><tr><td>CodePage</td><td><div class=\"dni-plaintext\"><pre>65001</pre></div></td></tr></tbody></table></div></details></td></tr><tr><td>Source</td><td><div class=\"dni-plaintext\"><pre>&lt;null&gt;</pre></div></td></tr><tr><td>InnerContent</td><td><details class=\"dni-treeview\"><summary><span class=\"dni-code-hint\"><code>Azure.AI.OpenAI.ChatResponseMessage</code></span></summary><div><table><thead><tr></tr></thead><tbody><tr><td>Role</td><td><details class=\"dni-treeview\"><summary><span class=\"dni-code-hint\"><code>assistant</code></span></summary><div><table><thead><tr></tr></thead><tbody></tbody></table></div></details></td></tr><tr><td>Content</td><td><div class=\"dni-plaintext\"><pre> Sure! Here&#39;s a simple example of a SQL query in Snowflake. This query will select the &quot;order_id&quot; and &quot;total_amount&quot; columns from a table named &quot;orders&quot;, where the &quot;customer_id&quot; is equal to a given value:\n",
       "\n",
       "```sql\n",
       "SELECT order_id, total_amount\n",
       "FROM orders\n",
       "WHERE customer_id = &lt;given_customer_id&gt;;\n",
       "```\n",
       "\n",
       "Replace `&lt;given_customer_id&gt;` with the actual value you want to filter by. Also, make sure the table &quot;orders&quot; exists in your Snowflake database and that you have the necessary permissions to query it.</pre></div></td></tr><tr><td>ToolCalls</td><td><details class=\"dni-treeview\"><summary><span class=\"dni-code-hint\"><code>[  ]</code></span></summary><div><table><thead><tr></tr></thead><tbody><tr><td>IsUndefined</td><td><div class=\"dni-plaintext\"><pre>True</pre></div></td></tr><tr><td>Count</td><td><div class=\"dni-plaintext\"><pre>0</pre></div></td></tr><tr><td>IsReadOnly</td><td><div class=\"dni-plaintext\"><pre>False</pre></div></td></tr><tr><td><i>(values)</i></td><td><i>(empty)</i></td></tr></tbody></table></div></details></td></tr><tr><td>FunctionCall</td><td><div class=\"dni-plaintext\"><pre>&lt;null&gt;</pre></div></td></tr><tr><td>AzureExtensionsContext</td><td><div class=\"dni-plaintext\"><pre>&lt;null&gt;</pre></div></td></tr></tbody></table></div></details></td></tr><tr><td>ModelId</td><td><div class=\"dni-plaintext\"><pre>mistral</pre></div></td></tr><tr><td>Metadata</td><td><table><thead><tr><th><i>key</i></th><th><i>type</i></th><th>value</th></tr></thead><tbody><tr><td><div class=\"dni-plaintext\"><pre>Id</pre></div></td><td><span><a href=\"https://docs.microsoft.com/dotnet/api/system.string?view=net-7.0\">System.String</a></span></td><td><div class=\"dni-plaintext\"><pre>chatcmpl-538</pre></div></td></tr><tr><td><div class=\"dni-plaintext\"><pre>Created</pre></div></td><td><span><a href=\"https://docs.microsoft.com/dotnet/api/system.datetimeoffset?view=net-7.0\">System.DateTimeOffset</a></span></td><td><span>2024-05-13 11:05:18Z</span></td></tr><tr><td><div class=\"dni-plaintext\"><pre>PromptFilterResults</pre></div></td><td>Azure.AI.OpenAI.ChangeTrackingList&lt;Azure.AI.OpenAI.ContentFilterResultsForPrompt&gt;</td><td></td></tr><tr><td><div class=\"dni-plaintext\"><pre>SystemFingerprint</pre></div></td><td><span><a href=\"https://docs.microsoft.com/dotnet/api/system.string?view=net-7.0\">System.String</a></span></td><td><div class=\"dni-plaintext\"><pre>fp_ollama</pre></div></td></tr><tr><td><div class=\"dni-plaintext\"><pre>Usage</pre></div></td><td>Azure.AI.OpenAI.CompletionsUsage</td><td><details class=\"dni-treeview\"><summary><span class=\"dni-code-hint\"><code>Azure.AI.OpenAI.CompletionsUsage</code></span></summary><div><table><thead><tr></tr></thead><tbody><tr><td>CompletionTokens</td><td><div class=\"dni-plaintext\"><pre>141</pre></div></td></tr><tr><td>PromptTokens</td><td><div class=\"dni-plaintext\"><pre>18</pre></div></td></tr><tr><td>TotalTokens</td><td><div class=\"dni-plaintext\"><pre>159</pre></div></td></tr></tbody></table></div></details></td></tr><tr><td><div class=\"dni-plaintext\"><pre>ContentFilterResults</pre></div></td><td><div class=\"dni-plaintext\"><pre>&lt;null&gt;</pre></div></td><td><div class=\"dni-plaintext\"><pre>&lt;null&gt;</pre></div></td></tr><tr><td><div class=\"dni-plaintext\"><pre>FinishReason</pre></div></td><td><span><a href=\"https://docs.microsoft.com/dotnet/api/system.string?view=net-7.0\">System.String</a></span></td><td><div class=\"dni-plaintext\"><pre>stop</pre></div></td></tr><tr><td><div class=\"dni-plaintext\"><pre>FinishDetails</pre></div></td><td><div class=\"dni-plaintext\"><pre>&lt;null&gt;</pre></div></td><td><div class=\"dni-plaintext\"><pre>&lt;null&gt;</pre></div></td></tr><tr><td><div class=\"dni-plaintext\"><pre>LogProbabilityInfo</pre></div></td><td><div class=\"dni-plaintext\"><pre>&lt;null&gt;</pre></div></td><td><div class=\"dni-plaintext\"><pre>&lt;null&gt;</pre></div></td></tr><tr><td><div class=\"dni-plaintext\"><pre>Index</pre></div></td><td><span><a href=\"https://docs.microsoft.com/dotnet/api/system.int32?view=net-7.0\">System.Int32</a></span></td><td><div class=\"dni-plaintext\"><pre>0</pre></div></td></tr><tr><td><div class=\"dni-plaintext\"><pre>Enhancements</pre></div></td><td><div class=\"dni-plaintext\"><pre>&lt;null&gt;</pre></div></td><td><div class=\"dni-plaintext\"><pre>&lt;null&gt;</pre></div></td></tr></tbody></table></td></tr><tr><td>MimeType</td><td><div class=\"dni-plaintext\"><pre>&lt;null&gt;</pre></div></td></tr></tbody></table></div></details><style>\r\n",
       ".dni-code-hint {\r\n",
       "    font-style: italic;\r\n",
       "    overflow: hidden;\r\n",
       "    white-space: nowrap;\r\n",
       "}\r\n",
       ".dni-treeview {\r\n",
       "    white-space: nowrap;\r\n",
       "}\r\n",
       ".dni-treeview td {\r\n",
       "    vertical-align: top;\r\n",
       "    text-align: start;\r\n",
       "}\r\n",
       "details.dni-treeview {\r\n",
       "    padding-left: 1em;\r\n",
       "}\r\n",
       "table td {\r\n",
       "    text-align: start;\r\n",
       "}\r\n",
       "table tr { \r\n",
       "    vertical-align: top; \r\n",
       "    margin: 0em 0px;\r\n",
       "}\r\n",
       "table tr td pre \r\n",
       "{ \r\n",
       "    vertical-align: top !important; \r\n",
       "    margin: 0em 0px !important;\r\n",
       "} \r\n",
       "table th {\r\n",
       "    text-align: start;\r\n",
       "}\r\n",
       "</style>"
      ]
     },
     "metadata": {},
     "output_type": "display_data"
    }
   ],
   "source": [
    "response.Display();"
   ]
  }
 ],
 "metadata": {
  "kernelspec": {
   "display_name": ".NET (C#)",
   "language": "C#",
   "name": ".net-csharp"
  },
  "language_info": {
   "name": "python"
  },
  "polyglot_notebook": {
   "kernelInfo": {
    "defaultKernelName": "csharp",
    "items": [
     {
      "aliases": [],
      "name": "csharp"
     }
    ]
   }
  }
 },
 "nbformat": 4,
 "nbformat_minor": 2
}
