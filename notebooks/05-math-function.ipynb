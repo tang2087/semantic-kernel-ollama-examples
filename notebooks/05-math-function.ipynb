{
 "cells": [
  {
   "cell_type": "markdown",
   "metadata": {},
   "source": [
    "# 05. Plugin: Math Function\n",
    "This tutorial shows you how to create plugins with Semantic Kernel. \n",
    "At the moment, Ollama with local LLMs doesn't support tool calling automatically. Hence we will have to use prompt to ask LLMs to return specified code and then parse the code to execute.\n",
    "\n",
    "Beside this approach, you can also consider using llamasharp to call tools directly."
   ]
  },
  {
   "cell_type": "markdown",
   "metadata": {
    "vscode": {
     "languageId": "plaintext"
    }
   },
   "source": [
    "## Prerequisites\n",
    "\n",
    "Refer to [01-get-started.ipynb](./01-get-started.ipynb) to install Ollama."
   ]
  },
  {
   "cell_type": "markdown",
   "metadata": {},
   "source": [
    "## Install Semantic Kernel\n",
    "\n",
    "Run the following cell to install the packages."
   ]
  },
  {
   "cell_type": "code",
   "execution_count": 1,
   "metadata": {
    "dotnet_interactive": {
     "language": "csharp"
    },
    "polyglot_notebook": {
     "kernelName": "csharp"
    },
    "vscode": {
     "languageId": "polyglot-notebook"
    }
   },
   "outputs": [
    {
     "data": {
      "text/html": [
       "<div><div></div><div></div><div><strong>Installed Packages</strong><ul><li><span>Microsoft.SemanticKernel, 1.11.1</span></li></ul></div></div>"
      ]
     },
     "metadata": {},
     "output_type": "display_data"
    }
   ],
   "source": [
    "#r \"nuget: Microsoft.SemanticKernel, 1.11.1\""
   ]
  },
  {
   "cell_type": "markdown",
   "metadata": {
    "vscode": {
     "languageId": "polyglot-notebook"
    }
   },
   "source": [
    "## Instantiate the kernel"
   ]
  },
  {
   "cell_type": "code",
   "execution_count": 2,
   "metadata": {
    "dotnet_interactive": {
     "language": "csharp"
    },
    "polyglot_notebook": {
     "kernelName": "csharp"
    },
    "vscode": {
     "languageId": "polyglot-notebook"
    }
   },
   "outputs": [],
   "source": [
    "#pragma warning disable SKEXP0010\n",
    "using Microsoft.SemanticKernel;\n",
    "using Kernel = Microsoft.SemanticKernel.Kernel;\n",
    "\n",
    "Action<string> println = System.Console.WriteLine;\n",
    "Action<string> print = System.Console.Write;\n",
    "\n",
    "// We use Mistral for this tutorial \n",
    "var modelId = \"mistral\";\n",
    "// local Ollama endpoint\n",
    "var endpoint = new Uri(\"http://localhost:11434\");\n",
    "\n",
    "var kernelBuilder = Kernel.CreateBuilder();\n",
    "var kernel = kernelBuilder\n",
    "    .AddOpenAIChatCompletion(\n",
    "        modelId,\n",
    "        endpoint,\n",
    "        apiKey:null) \n",
    "    .Build();\n",
    "\n",
    "#pragma warning restore SKEXP0010"
   ]
  },
  {
   "cell_type": "markdown",
   "metadata": {
    "vscode": {
     "languageId": "polyglot-notebook"
    }
   },
   "source": [
    "##  Create the plugin\n",
    "\n",
    "Let's first create a Math plugin with four functions `Add`, `Subtract`, `Multiply`, and `Divide`.\n"
   ]
  },
  {
   "cell_type": "code",
   "execution_count": 3,
   "metadata": {
    "dotnet_interactive": {
     "language": "csharp"
    },
    "polyglot_notebook": {
     "kernelName": "csharp"
    },
    "vscode": {
     "languageId": "polyglot-notebook"
    }
   },
   "outputs": [],
   "source": [
    "using System.ComponentModel;\n",
    "using Microsoft.SemanticKernel;\n",
    "\n",
    "public sealed class MyMathPlugin\n",
    "{\n",
    "\n",
    "    [KernelFunction, Description(\"Add two integers\")]\n",
    "    public static int Add(\n",
    "        [Description(\"The first integer to add\")] int number1,\n",
    "        [Description(\"The second integer to add\")] int number2\n",
    "    )\n",
    "    {\n",
    "        return number1 + number2;\n",
    "    }\n",
    "\n",
    "    [KernelFunction, Description(\"Subtract two integers\")]\n",
    "    public static int Subtract(\n",
    "        [Description(\"The first integer to subtract from\")] int number1,\n",
    "        [Description(\"The second integer to subtract away\")] int number2\n",
    "    )\n",
    "    {\n",
    "        return number1 - number2;\n",
    "    }\n",
    "\n",
    "    [KernelFunction, Description(\"Multiply two integers.\")]\n",
    "    public static int Multiply(\n",
    "        [Description(\"The first integer to multiply\")] int number1,\n",
    "        [Description(\"The second integer to multiply\")] int number2\n",
    "    )\n",
    "    {\n",
    "        return number1 * number2;\n",
    "    }\n",
    "\n",
    "    [KernelFunction, Description(\"Divide two integers. Make sure the second integer is not 0.\")]\n",
    "    public static int Divide(\n",
    "        [Description(\"The first integer to multiply\")] int number1,\n",
    "        [Description(\"The second integer to multiply\")] int number2\n",
    "    )\n",
    "    {\n",
    "        return number1 / number2;\n",
    "    }\n",
    "    \n",
    "}"
   ]
  },
  {
   "cell_type": "markdown",
   "metadata": {},
   "source": [
    "## Register the plugin with the kernel\n",
    "\n",
    "After adding the plugin, we can then call it natively first."
   ]
  },
  {
   "cell_type": "code",
   "execution_count": 4,
   "metadata": {
    "dotnet_interactive": {
     "language": "csharp"
    },
    "polyglot_notebook": {
     "kernelName": "csharp"
    },
    "vscode": {
     "languageId": "polyglot-notebook"
    }
   },
   "outputs": [],
   "source": [
    "public void PrintPlugins()\n",
    "{\n",
    "    foreach(var p in kernel.Plugins)\n",
    "    println(p.Name);\n",
    "}"
   ]
  },
  {
   "cell_type": "code",
   "execution_count": 5,
   "metadata": {
    "dotnet_interactive": {
     "language": "csharp"
    },
    "polyglot_notebook": {
     "kernelName": "csharp"
    },
    "vscode": {
     "languageId": "polyglot-notebook"
    }
   },
   "outputs": [
    {
     "name": "stdout",
     "output_type": "stream",
     "text": [
      "MyMathPlugin\n",
      "30\n"
     ]
    }
   ],
   "source": [
    "if(kernel.Plugins.Count == 0)\n",
    "{\n",
    "    kernel.Plugins.AddFromType<MyMathPlugin>();\n",
    "}\n",
    "\n",
    "PrintPlugins();\n",
    "\n",
    "KernelArguments args = new() {\n",
    "    [\"number1\"]=10, \n",
    "    [\"number2\"]=20\n",
    "};\n",
    "var result = await kernel.InvokeAsync<int>(\"MyMathPlugin\",\"Add\", args);\n",
    "Console.WriteLine(result);"
   ]
  },
  {
   "cell_type": "markdown",
   "metadata": {},
   "source": [
    "Let's explore the kernel function further. As you can see, Metadata property collects information of the native function which we can use in our prompt."
   ]
  },
  {
   "cell_type": "code",
   "execution_count": 6,
   "metadata": {
    "dotnet_interactive": {
     "language": "csharp"
    },
    "polyglot_notebook": {
     "kernelName": "csharp"
    },
    "vscode": {
     "languageId": "polyglot-notebook"
    }
   },
   "outputs": [
    {
     "data": {
      "text/html": [
       "<details open=\"open\" class=\"dni-treeview\"><summary><span class=\"dni-code-hint\"><code>System.NotSupportedException: Serialization and deserialization of &#39;System.Type&#39; instances is not supported. Path: $.Metadata.Parameters.ParameterType.\\r\\n ---&gt; System.NotSupportedException: Serialization and deserialization of &#39;System.Type&#39; instances is not supported.\\r\\n   at System.Text.Json.Seri...</code></span></summary><div><table><thead><tr></tr></thead><tbody><tr><td>Name</td><td><div class=\"dni-plaintext\"><pre>Add</pre></div></td></tr><tr><td>PluginName</td><td><div class=\"dni-plaintext\"><pre>MyMathPlugin</pre></div></td></tr><tr><td>Description</td><td><div class=\"dni-plaintext\"><pre>Add two integers</pre></div></td></tr><tr><td>Metadata</td><td><details class=\"dni-treeview\"><summary><span class=\"dni-code-hint\"><code>Microsoft.SemanticKernel.KernelFunctionMetadata</code></span></summary><div><table><thead><tr></tr></thead><tbody><tr><td>Name</td><td><div class=\"dni-plaintext\"><pre>Add</pre></div></td></tr><tr><td>PluginName</td><td><div class=\"dni-plaintext\"><pre>MyMathPlugin</pre></div></td></tr><tr><td>Description</td><td><div class=\"dni-plaintext\"><pre>Add two integers</pre></div></td></tr><tr><td>Parameters</td><td><table><thead><tr><th><i>index</i></th><th>value</th></tr></thead><tbody><tr><td>0</td><td><details class=\"dni-treeview\"><summary><span class=\"dni-code-hint\"><code>Microsoft.SemanticKernel.KernelParameterMetadata</code></span></summary><div><table><thead><tr></tr></thead><tbody><tr><td>Name</td><td><div class=\"dni-plaintext\"><pre>number1</pre></div></td></tr><tr><td>Description</td><td><div class=\"dni-plaintext\"><pre>The first integer to add</pre></div></td></tr><tr><td>DefaultValue</td><td><div class=\"dni-plaintext\"><pre>&lt;null&gt;</pre></div></td></tr><tr><td>IsRequired</td><td><div class=\"dni-plaintext\"><pre>True</pre></div></td></tr><tr><td>ParameterType</td><td><span><a href=\"https://docs.microsoft.com/dotnet/api/system.int32?view=net-7.0\">System.Int32</a></span></td></tr><tr><td>Schema</td><td><details class=\"dni-treeview\"><summary><span class=\"dni-code-hint\"><code>{\\r\\n  &quot;type&quot;: &quot;integer&quot;,\\r\\n  &quot;description&quot;: &quot;The first integer to add&quot;\\r\\n}</code></span></summary><div><table><thead><tr></tr></thead><tbody><tr><td>RootElement</td><td><details class=\"dni-treeview\"><summary><span class=\"dni-code-hint\"><code>{&quot;type&quot;:&quot;integer&quot;,&quot;description&quot;:&quot;The first integer to add&quot;}</code></span></summary><div><table><thead><tr></tr></thead><tbody><tr><td>type</td><td>integer</td></tr><tr><td>description</td><td>The first integer to add</td></tr></tbody></table></div></details></td></tr></tbody></table></div></details></td></tr></tbody></table></div></details></td></tr><tr><td>1</td><td><details class=\"dni-treeview\"><summary><span class=\"dni-code-hint\"><code>Microsoft.SemanticKernel.KernelParameterMetadata</code></span></summary><div><table><thead><tr></tr></thead><tbody><tr><td>Name</td><td><div class=\"dni-plaintext\"><pre>number2</pre></div></td></tr><tr><td>Description</td><td><div class=\"dni-plaintext\"><pre>The second integer to add</pre></div></td></tr><tr><td>DefaultValue</td><td><div class=\"dni-plaintext\"><pre>&lt;null&gt;</pre></div></td></tr><tr><td>IsRequired</td><td><div class=\"dni-plaintext\"><pre>True</pre></div></td></tr><tr><td>ParameterType</td><td><span><a href=\"https://docs.microsoft.com/dotnet/api/system.int32?view=net-7.0\">System.Int32</a></span></td></tr><tr><td>Schema</td><td><details class=\"dni-treeview\"><summary><span class=\"dni-code-hint\"><code>{\\r\\n  &quot;type&quot;: &quot;integer&quot;,\\r\\n  &quot;description&quot;: &quot;The second integer to add&quot;\\r\\n}</code></span></summary><div><table><thead><tr></tr></thead><tbody><tr><td>RootElement</td><td><details class=\"dni-treeview\"><summary><span class=\"dni-code-hint\"><code>{&quot;type&quot;:&quot;integer&quot;,&quot;description&quot;:&quot;The second integer to add&quot;}</code></span></summary><div><table><thead><tr></tr></thead><tbody><tr><td>type</td><td>integer</td></tr><tr><td>description</td><td>The second integer to add</td></tr></tbody></table></div></details></td></tr></tbody></table></div></details></td></tr></tbody></table></div></details></td></tr></tbody></table></td></tr><tr><td>ReturnParameter</td><td><details class=\"dni-treeview\"><summary><span class=\"dni-code-hint\"><code>Microsoft.SemanticKernel.KernelReturnParameterMetadata</code></span></summary><div><table><thead><tr></tr></thead><tbody><tr><td>Description</td><td><div class=\"dni-plaintext\"><pre></pre></div></td></tr><tr><td>ParameterType</td><td><span><a href=\"https://docs.microsoft.com/dotnet/api/system.int32?view=net-7.0\">System.Int32</a></span></td></tr><tr><td>Schema</td><td><details class=\"dni-treeview\"><summary><span class=\"dni-code-hint\"><code>{\\r\\n  &quot;type&quot;: &quot;integer&quot;\\r\\n}</code></span></summary><div><table><thead><tr></tr></thead><tbody><tr><td>RootElement</td><td><details class=\"dni-treeview\"><summary><span class=\"dni-code-hint\"><code>{&quot;type&quot;:&quot;integer&quot;}</code></span></summary><div><table><thead><tr></tr></thead><tbody><tr><td>type</td><td><span>&quot;integer&quot;</span></td></tr></tbody></table></div></details></td></tr></tbody></table></div></details></td></tr></tbody></table></div></details></td></tr><tr><td>AdditionalProperties</td><td><i>(empty)</i></td></tr></tbody></table></div></details></td></tr><tr><td>ExecutionSettings</td><td><div class=\"dni-plaintext\"><pre>&lt;null&gt;</pre></div></td></tr></tbody></table></div></details><style>\r\n",
       ".dni-code-hint {\r\n",
       "    font-style: italic;\r\n",
       "    overflow: hidden;\r\n",
       "    white-space: nowrap;\r\n",
       "}\r\n",
       ".dni-treeview {\r\n",
       "    white-space: nowrap;\r\n",
       "}\r\n",
       ".dni-treeview td {\r\n",
       "    vertical-align: top;\r\n",
       "    text-align: start;\r\n",
       "}\r\n",
       "details.dni-treeview {\r\n",
       "    padding-left: 1em;\r\n",
       "}\r\n",
       "table td {\r\n",
       "    text-align: start;\r\n",
       "}\r\n",
       "table tr { \r\n",
       "    vertical-align: top; \r\n",
       "    margin: 0em 0px;\r\n",
       "}\r\n",
       "table tr td pre \r\n",
       "{ \r\n",
       "    vertical-align: top !important; \r\n",
       "    margin: 0em 0px !important;\r\n",
       "} \r\n",
       "table th {\r\n",
       "    text-align: start;\r\n",
       "}\r\n",
       "</style>"
      ]
     },
     "metadata": {},
     "output_type": "display_data"
    }
   ],
   "source": [
    "var addFunc = kernel.Plugins.GetFunction(\"MyMathPlugin\", \"Add\");\n",
    "addFunc"
   ]
  },
  {
   "cell_type": "code",
   "execution_count": 7,
   "metadata": {
    "dotnet_interactive": {
     "language": "csharp"
    },
    "polyglot_notebook": {
     "kernelName": "csharp"
    },
    "vscode": {
     "languageId": "polyglot-notebook"
    }
   },
   "outputs": [
    {
     "data": {
      "text/plain": [
       "[\r\n",
       "  {\r\n",
       "    \"FunctionName\": \"Add\",\r\n",
       "    \"PluginName\": \"MyMathPlugin\",\r\n",
       "    \"Description\": \"Add two integers\",\r\n",
       "    \"Parameters\": [\r\n",
       "      {\r\n",
       "        \"Name\": \"number1\",\r\n",
       "        \"Description\": \"The first integer to add\"\r\n",
       "      },\r\n",
       "      {\r\n",
       "        \"Name\": \"number2\",\r\n",
       "        \"Description\": \"The second integer to add\"\r\n",
       "      }\r\n",
       "    ]\r\n",
       "  },\r\n",
       "  {\r\n",
       "    \"FunctionName\": \"Subtract\",\r\n",
       "    \"PluginName\": \"MyMathPlugin\",\r\n",
       "    \"Description\": \"Subtract two integers\",\r\n",
       "    \"Parameters\": [\r\n",
       "      {\r\n",
       "        \"Name\": \"number1\",\r\n",
       "        \"Description\": \"The first integer to subtract from\"\r\n",
       "      },\r\n",
       "      {\r\n",
       "        \"Name\": \"number2\",\r\n",
       "        \"Description\": \"The second integer to subtract away\"\r\n",
       "      }\r\n",
       "    ]\r\n",
       "  },\r\n",
       "  {\r\n",
       "    \"FunctionName\": \"Multiply\",\r\n",
       "    \"PluginName\": \"MyMathPlugin\",\r\n",
       "    \"Description\": \"Multiply two integers.\",\r\n",
       "    \"Parameters\": [\r\n",
       "      {\r\n",
       "        \"Name\": \"number1\",\r\n",
       "        \"Description\": \"The first integer to multiply\"\r\n",
       "      },\r\n",
       "      {\r\n",
       "        \"Name\": \"number2\",\r\n",
       "        \"Description\": \"The second integer to multiply\"\r\n",
       "      }\r\n",
       "    ]\r\n",
       "  },\r\n",
       "  {\r\n",
       "    \"FunctionName\": \"Divide\",\r\n",
       "    \"PluginName\": \"MyMathPlugin\",\r\n",
       "    \"Description\": \"Divide two integers. Make sure the second integer is not 0.\",\r\n",
       "    \"Parameters\": [\r\n",
       "      {\r\n",
       "        \"Name\": \"number1\",\r\n",
       "        \"Description\": \"The first integer to multiply\"\r\n",
       "      },\r\n",
       "      {\r\n",
       "        \"Name\": \"number2\",\r\n",
       "        \"Description\": \"The second integer to multiply\"\r\n",
       "      }\r\n",
       "    ]\r\n",
       "  }\r\n",
       "]"
      ]
     },
     "metadata": {},
     "output_type": "display_data"
    }
   ],
   "source": [
    "var json = System.Text.Json.JsonSerializer.Serialize(\n",
    "    kernel.Plugins.GetFunctionsMetadata().Select(f => \n",
    "        new{\n",
    "            FunctionName = f.Name,\n",
    "            f.PluginName,\n",
    "            f.Description,\n",
    "            Parameters = f.Parameters.Select(p => new {\n",
    "                p.Name,\n",
    "                p.Description\n",
    "            })\n",
    "        }\n",
    "    )\n",
    "    , new System.Text.Json.JsonSerializerOptions { WriteIndented = true }\n",
    ");\n",
    "display(json);"
   ]
  },
  {
   "cell_type": "markdown",
   "metadata": {},
   "source": [
    "## Try the plugin in Prompts\n",
    "\n",
    "Now let's allow AI to response the function to invoke based on user input."
   ]
  },
  {
   "cell_type": "code",
   "execution_count": 21,
   "metadata": {
    "dotnet_interactive": {
     "language": "csharp"
    },
    "polyglot_notebook": {
     "kernelName": "csharp"
    },
    "vscode": {
     "languageId": "polyglot-notebook"
    }
   },
   "outputs": [
    {
     "name": "stdout",
     "output_type": "stream",
     "text": [
      "## Introduction:\r\n",
      "\r\n",
      "You are a conversational AI assistant that has access to the following set of tools. \r\n",
      "Here are the names and descriptions for each tool in JSON format:\r\n",
      "\r\n",
      "```json\r\n",
      "[\r\n",
      "  {\r\n",
      "    \"FunctionName\": \"Add\",\r\n",
      "    \"PluginName\": \"MyMathPlugin\",\r\n",
      "    \"Description\": \"Add two integers\",\r\n",
      "    \"Parameters\": [\r\n",
      "      {\r\n",
      "        \"Name\": \"number1\",\r\n",
      "        \"Description\": \"The first integer to add\"\r\n",
      "      },\r\n",
      "      {\r\n",
      "        \"Name\": \"number2\",\r\n",
      "        \"Description\": \"The second integer to add\"\r\n",
      "      }\r\n",
      "    ]\r\n",
      "  },\r\n",
      "  {\r\n",
      "    \"FunctionName\": \"Subtract\",\r\n",
      "    \"PluginName\": \"MyMathPlugin\",\r\n",
      "    \"Description\": \"Subtract two integers\",\r\n",
      "    \"Parameters\": [\r\n",
      "      {\r\n",
      "        \"Name\": \"number1\",\r\n",
      "        \"Description\": \"The first integer to subtract from\"\r\n",
      "      },\r\n",
      "      {\r\n",
      "        \"Name\": \"number2\",\r\n",
      "        \"Description\": \"The second integer to subtract away\"\r\n",
      "      }\r\n",
      "    ]\r\n",
      "  },\r\n",
      "  {\r\n",
      "    \"FunctionName\": \"Multiply\",\r\n",
      "    \"PluginName\": \"MyMathPlugin\",\r\n",
      "    \"Description\": \"Multiply two integers.\",\r\n",
      "    \"Parameters\": [\r\n",
      "      {\r\n",
      "        \"Name\": \"number1\",\r\n",
      "        \"Description\": \"The first integer to multiply\"\r\n",
      "      },\r\n",
      "      {\r\n",
      "        \"Name\": \"number2\",\r\n",
      "        \"Description\": \"The second integer to multiply\"\r\n",
      "      }\r\n",
      "    ]\r\n",
      "  },\r\n",
      "  {\r\n",
      "    \"FunctionName\": \"Divide\",\r\n",
      "    \"PluginName\": \"MyMathPlugin\",\r\n",
      "    \"Description\": \"Divide two integers. Make sure the second integer is not 0.\",\r\n",
      "    \"Parameters\": [\r\n",
      "      {\r\n",
      "        \"Name\": \"number1\",\r\n",
      "        \"Description\": \"The first integer to multiply\"\r\n",
      "      },\r\n",
      "      {\r\n",
      "        \"Name\": \"number2\",\r\n",
      "        \"Description\": \"The second integer to multiply\"\r\n",
      "      }\r\n",
      "    ]\r\n",
      "  }\r\n",
      "]\r\n",
      "```\r\n",
      "\r\n",
      "## JSON Schema:\r\n",
      "\r\n",
      "Here is the JSON format to response:\r\n",
      "\r\n",
      "{\r\n",
      "    \"FunctionName\": \"Function name to answer the question\",\r\n",
      "    \"PluginName\": \"The plugin name\",\r\n",
      "    \"Parameters\": [\r\n",
      "      {\r\n",
      "        \"Name\": \"Parameter name, for example name1\",\r\n",
      "        \"value\": \"The value for the parameter\"\r\n",
      "      },\r\n",
      "    ],\r\n",
      "    \"Notes\": \"The reason why you chose this function.\"\r\n",
      "}\r\n",
      "\r\n",
      "## Task:\r\n",
      "\r\n",
      "You need to answer the following question in the above JSON format. \\\r\n",
      "Answer EXACTLY AND ONLY in JSON format without any other comment or text. \\\r\n",
      "If you don't know the answer, return an empty JSON object.\r\n",
      "\r\n",
      "Question:```What is 10 plus 20?```\r\n",
      "\r\n"
     ]
    }
   ],
   "source": [
    "using Microsoft.SemanticKernel.ChatCompletion;\n",
    "using Microsoft.SemanticKernel;\n",
    "using Microsoft.SemanticKernel.Connectors.OpenAI;\n",
    "using Microsoft.SemanticKernel.TemplateEngine;\n",
    "\n",
    "var chatService = kernel.GetRequiredService<IChatCompletionService>();\n",
    "\n",
    "var executionSettings = new OpenAIPromptExecutionSettings\n",
    "{\n",
    "    MaxTokens = 4096,\n",
    "    Temperature = 0,\n",
    "    // Enable automatic invocation of kernel functions\n",
    "    // Note this doesn't work with Ollama. It works with Azure OpenAI models. \n",
    "    ToolCallBehavior = ToolCallBehavior.AutoInvokeKernelFunctions\n",
    "};\n",
    "\n",
    "var skPromptBuilder = new StringBuilder();\n",
    "skPromptBuilder.AppendLine(\"\"\"\n",
    "## Introduction:\n",
    "\n",
    "You are a conversational AI assistant that has access to the following set of tools. \n",
    "Here are the names and descriptions for each tool in JSON format:\n",
    "\n",
    "\"\"\"\n",
    ");\n",
    "\n",
    "skPromptBuilder.AppendLine(\"```json\");\n",
    "skPromptBuilder.AppendLine(json);\n",
    "skPromptBuilder.AppendLine(\"```\");\n",
    "\n",
    "skPromptBuilder.AppendLine(\"\"\"\n",
    "\n",
    "## JSON Schema:\n",
    "\n",
    "Here is the JSON format to response:\n",
    "\n",
    "{\n",
    "    \"FunctionName\": \"Function name to answer the question\",\n",
    "    \"PluginName\": \"The plugin name\",\n",
    "    \"Parameters\": [\n",
    "      {\n",
    "        \"Name\": \"Parameter name, for example name1\",\n",
    "        \"value\": \"The value for the parameter\"\n",
    "      },\n",
    "    ],\n",
    "    \"Notes\": \"The reason why you chose this function.\"\n",
    "}\n",
    "\n",
    "## Task:\n",
    "\n",
    "You need to answer the following question in the above JSON format. \\\n",
    "Answer EXACTLY AND ONLY in JSON format without any other comment or text. \\\n",
    "If you don't know the answer, return an empty JSON object.\n",
    "\n",
    "Question:```{{$question}}```\n",
    "\n",
    "\"\"\");\n",
    "\n",
    "var skPrompt = skPromptBuilder.ToString();\n",
    "\n",
    "var question = \"What is 10 plus 20?\";\n",
    "\n",
    "// Let's print out the prompt\n",
    "var promptTemplateConfig = new PromptTemplateConfig(skPrompt);\n",
    "var promptTemplateFactory = new KernelPromptTemplateFactory();\n",
    "var promptTemplate = promptTemplateFactory.Create(promptTemplateConfig);\n",
    "print(await promptTemplate.RenderAsync(kernel, new() { [\"question\"] = question}));\n"
   ]
  },
  {
   "cell_type": "code",
   "execution_count": 22,
   "metadata": {
    "dotnet_interactive": {
     "language": "csharp"
    },
    "polyglot_notebook": {
     "kernelName": "csharp"
    },
    "vscode": {
     "languageId": "polyglot-notebook"
    }
   },
   "outputs": [
    {
     "name": "stdout",
     "output_type": "stream",
     "text": [
      "Question: What is 10 plus 20?\n",
      "Answer from the Model in JSON:\n",
      " {\n",
      "  \"FunctionName\": \"Add\",\n",
      "  \"PluginName\": \"MyMathPlugin\",\n",
      "  \"Parameters\": [\n",
      "    {\n",
      "      \"Name\": \"number1\",\n",
      "      \"value\": 10\n",
      "    },\n",
      "    {\n",
      "      \"Name\": \"number2\",\n",
      "      \"value\": 20\n",
      "    }\n",
      "  ],\n",
      "  \"Notes\": \"The question asks for 'What is 10 plus 20?', so the answer must be obtained by adding two numbers which can be achieved using the 'Add' function of 'MyMathPlugin'. Therefore, we use the PluginName: 'MyMathPlugin', FunctionName: 'Add' and provide the parameters number1: 10 and number2: 20.\"\n",
      "}\n",
      "Question: What is 10 minus 20?\n",
      "Answer from the Model in JSON:\n",
      " {\n",
      "  \"FunctionName\": \"Subtract\",\n",
      "  \"PluginName\": \"MyMathPlugin\",\n",
      "  \"Parameters\": [\n",
      "    {\n",
      "      \"Name\": \"number1\",\n",
      "      \"value\": 10\n",
      "    },\n",
      "    {\n",
      "      \"Name\": \"number2\",\n",
      "      \"value\": 20\n",
      "    }\n",
      "  ],\n",
      "  \"Notes\": \"We are subtracting number2 (20) from number1 (10)\"\n",
      "}\n",
      "Question: What is 10 times 20?\n",
      "Answer from the Model in JSON:\n",
      " {\n",
      "  \"FunctionName\": \"Multiply\",\n",
      "  \"PluginName\": \"MyMathPlugin\",\n",
      "  \"Parameters\": [\n",
      "    {\n",
      "      \"Name\": \"number1\",\n",
      "      \"value\": 10\n",
      "    },\n",
      "    {\n",
      "      \"Name\": \"number2\",\n",
      "      \"value\": 20\n",
      "    }\n",
      "  ],\n",
      "  \"Notes\": \"The question asks to find the product of two numbers, which is what the Multiply function does.\"\n",
      "}\n",
      "Question: What is 10 divided by 20?\n",
      "Answer from the Model in JSON:\n",
      " {\n",
      "  \"FunctionName\": \"None\",\n",
      "  \"PluginName\": \"None\",\n",
      "  \"Parameters\": [],\n",
      "  \"Notes\": \"The question asks for the result of an operation that cannot be performed with given integers (dividing by zero).\"\n",
      "}\n"
     ]
    }
   ],
   "source": [
    "List<string> questions = [question, \"What is 10 minus 20?\", \"What is 10 times 20?\", \"What is 10 divided by 20?\"];\n",
    "\n",
    "foreach(var q in questions)\n",
    "{\n",
    "    var response = await kernel.InvokePromptAsync<string>(skPrompt, new() { [\"question\"] = q });\n",
    "    println($\"Question: {q}\");\n",
    "    // response.Display();\n",
    "    println($\"Answer from the Model in JSON:\");\n",
    "    println(response);\n",
    "}"
   ]
  },
  {
   "cell_type": "markdown",
   "metadata": {},
   "source": [
    "## Call tool with the responsed JSON\n",
    "\n",
    "Now we can use the responsed JSON to invoke the kernel function."
   ]
  },
  {
   "cell_type": "code",
   "execution_count": null,
   "metadata": {
    "dotnet_interactive": {
     "language": "csharp"
    },
    "polyglot_notebook": {
     "kernelName": "csharp"
    },
    "vscode": {
     "languageId": "polyglot-notebook"
    }
   },
   "outputs": [],
   "source": [
    "// I will leave it to you to implement first using the above InvokeAsync method."
   ]
  }
 ],
 "metadata": {
  "kernelspec": {
   "display_name": ".NET (C#)",
   "language": "C#",
   "name": ".net-csharp"
  },
  "language_info": {
   "name": "python"
  },
  "polyglot_notebook": {
   "kernelInfo": {
    "defaultKernelName": "csharp",
    "items": [
     {
      "aliases": [],
      "name": "csharp"
     }
    ]
   }
  }
 },
 "nbformat": 4,
 "nbformat_minor": 2
}
