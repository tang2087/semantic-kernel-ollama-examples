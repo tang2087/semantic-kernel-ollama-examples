{
 "cells": [
  {
   "cell_type": "markdown",
   "metadata": {},
   "source": [
    "# 05. Plugin: Math Function\n",
    "This tutorial shows you how to create plugins with Semantic Kernel."
   ]
  },
  {
   "cell_type": "markdown",
   "metadata": {
    "vscode": {
     "languageId": "plaintext"
    }
   },
   "source": [
    "## Prerequisites\n",
    "\n",
    "Refer to [01-get-started.ipynb](./01-get-started.ipynb) to install Ollama."
   ]
  },
  {
   "cell_type": "markdown",
   "metadata": {},
   "source": [
    "## Install Semantic Kernel\n",
    "\n",
    "Run the following cell to install the packages."
   ]
  },
  {
   "cell_type": "code",
   "execution_count": 1,
   "metadata": {
    "dotnet_interactive": {
     "language": "csharp"
    },
    "polyglot_notebook": {
     "kernelName": "csharp"
    },
    "vscode": {
     "languageId": "polyglot-notebook"
    }
   },
   "outputs": [
    {
     "data": {
      "text/html": [
       "<div><div></div><div></div><div><strong>Installed Packages</strong><ul><li><span>Microsoft.SemanticKernel, 1.11.1</span></li></ul></div></div>"
      ]
     },
     "metadata": {},
     "output_type": "display_data"
    }
   ],
   "source": [
    "#r \"nuget: Microsoft.SemanticKernel, 1.11.1\""
   ]
  },
  {
   "cell_type": "markdown",
   "metadata": {
    "vscode": {
     "languageId": "polyglot-notebook"
    }
   },
   "source": [
    "## Instantiate the kernel"
   ]
  },
  {
   "cell_type": "code",
   "execution_count": 15,
   "metadata": {
    "dotnet_interactive": {
     "language": "csharp"
    },
    "polyglot_notebook": {
     "kernelName": "csharp"
    },
    "vscode": {
     "languageId": "polyglot-notebook"
    }
   },
   "outputs": [],
   "source": [
    "#pragma warning disable SKEXP0010\n",
    "using Microsoft.SemanticKernel;\n",
    "using Kernel = Microsoft.SemanticKernel.Kernel;\n",
    "\n",
    "Action<string> println = System.Console.WriteLine;\n",
    "Action<string> print = System.Console.Write;\n",
    "\n",
    "// We use Mistral for this tutorial \n",
    "var modelId = \"mistral\";\n",
    "// local Ollama endpoint\n",
    "var endpoint = new Uri(\"http://localhost:11434\");\n",
    "\n",
    "var kernelBuilder = Kernel.CreateBuilder();\n",
    "var kernel = kernelBuilder\n",
    "    .AddOpenAIChatCompletion(\n",
    "        modelId,\n",
    "        endpoint,\n",
    "        apiKey:null) \n",
    "    .Build();\n",
    "\n",
    "#pragma warning restore SKEXP0010"
   ]
  },
  {
   "cell_type": "markdown",
   "metadata": {
    "vscode": {
     "languageId": "polyglot-notebook"
    }
   },
   "source": [
    "##  Create the plugin\n",
    "\n",
    "Let's first create a Math plugin with four functions `Add`, `Subtract`, `Multiply`, and `Divide`.\n"
   ]
  },
  {
   "cell_type": "code",
   "execution_count": 16,
   "metadata": {
    "dotnet_interactive": {
     "language": "csharp"
    },
    "polyglot_notebook": {
     "kernelName": "csharp"
    },
    "vscode": {
     "languageId": "polyglot-notebook"
    }
   },
   "outputs": [],
   "source": [
    "using System.ComponentModel;\n",
    "using Microsoft.SemanticKernel;\n",
    "\n",
    "public sealed class MyMathPlugin\n",
    "{\n",
    "\n",
    "    [KernelFunction, Description(\"Add two integers\")]\n",
    "    public static int Add(\n",
    "        [Description(\"The first integer to add\")] int number1,\n",
    "        [Description(\"The second integer to add\")] int number2\n",
    "    )\n",
    "    {\n",
    "        return number1 + number2;\n",
    "    }\n",
    "\n",
    "    [KernelFunction, Description(\"Subtract two integers\")]\n",
    "    public static int Subtract(\n",
    "        [Description(\"The first integer to subtract from\")] int number1,\n",
    "        [Description(\"The second integer to subtract away\")] int number2\n",
    "    )\n",
    "    {\n",
    "        return number1 - number2;\n",
    "    }\n",
    "\n",
    "    [KernelFunction, Description(\"Multiply two integers.\")]\n",
    "    public static int Multiply(\n",
    "        [Description(\"The first integer to multiply\")] int number1,\n",
    "        [Description(\"The second integer to multiply\")] int number2\n",
    "    )\n",
    "    {\n",
    "        return number1 * number2;\n",
    "    }\n",
    "\n",
    "    [KernelFunction, Description(\"Divide two integers. Make sure the second integer is not 0.\")]\n",
    "    public static int Divide(\n",
    "        [Description(\"The first integer to multiply\")] int number1,\n",
    "        [Description(\"The second integer to multiply\")] int number2\n",
    "    )\n",
    "    {\n",
    "        return number1 / number2;\n",
    "    }\n",
    "    \n",
    "}"
   ]
  },
  {
   "cell_type": "markdown",
   "metadata": {},
   "source": [
    "## Register the plugin with the kernel\n",
    "\n",
    "After adding the plugin, we can then call it natively first."
   ]
  },
  {
   "cell_type": "code",
   "execution_count": 23,
   "metadata": {
    "dotnet_interactive": {
     "language": "csharp"
    },
    "polyglot_notebook": {
     "kernelName": "csharp"
    },
    "vscode": {
     "languageId": "polyglot-notebook"
    }
   },
   "outputs": [],
   "source": [
    "public void PrintPlugins()\n",
    "{\n",
    "    foreach(var p in kernel.Plugins)\n",
    "    println(p.Name);\n",
    "}"
   ]
  },
  {
   "cell_type": "code",
   "execution_count": 26,
   "metadata": {
    "dotnet_interactive": {
     "language": "csharp"
    },
    "polyglot_notebook": {
     "kernelName": "csharp"
    },
    "vscode": {
     "languageId": "polyglot-notebook"
    }
   },
   "outputs": [
    {
     "name": "stdout",
     "output_type": "stream",
     "text": [
      "MyMathPlugin\n",
      "30\n"
     ]
    }
   ],
   "source": [
    "if(kernel.Plugins.Count == 0)\n",
    "{\n",
    "    kernel.Plugins.AddFromType<MyMathPlugin>();\n",
    "}\n",
    "\n",
    "PrintPlugins();\n",
    "\n",
    "KernelArguments args = new() {\n",
    "    [\"number1\"]=10, \n",
    "    [\"number2\"]=20\n",
    "};\n",
    "var result = await kernel.InvokeAsync<int>(\"MyMathPlugin\",\"Add\", args);\n",
    "Console.WriteLine(result);"
   ]
  },
  {
   "cell_type": "markdown",
   "metadata": {},
   "source": [
    "## Try the plugin in Prompts\n",
    "\n",
    "Now let's allow AI to call the plugin/functions/tools directly. Pay attention to `ToolCallBehavior` setting of `OpenAIPromptExecutionSettings`."
   ]
  },
  {
   "cell_type": "code",
   "execution_count": 57,
   "metadata": {
    "dotnet_interactive": {
     "language": "csharp"
    },
    "polyglot_notebook": {
     "kernelName": "csharp"
    },
    "vscode": {
     "languageId": "polyglot-notebook"
    }
   },
   "outputs": [
    {
     "name": "stdout",
     "output_type": "stream",
     "text": [
      "What is 10 plus 20?"
     ]
    }
   ],
   "source": [
    "using Microsoft.SemanticKernel.ChatCompletion;\n",
    "using Microsoft.SemanticKernel;\n",
    "using Microsoft.SemanticKernel.Connectors.OpenAI;\n",
    "using Microsoft.SemanticKernel.TemplateEngine;\n",
    "\n",
    "var chatService = kernel.GetRequiredService<IChatCompletionService>();\n",
    "\n",
    "var executionSettings = new OpenAIPromptExecutionSettings\n",
    "{\n",
    "    MaxTokens = 2000,\n",
    "    Temperature = 0,\n",
    "    // Enable automatic invocation of kernel functions\n",
    "    ToolCallBehavior = ToolCallBehavior.AutoInvokeKernelFunctions\n",
    "};\n",
    "\n",
    "var skPrompt = \"What is 10 plus 20?\";\n",
    "\n",
    "// Let's print out the prompt\n",
    "var promptTemplateConfig = new PromptTemplateConfig(skPrompt);\n",
    "var promptTemplateFactory = new KernelPromptTemplateFactory();\n",
    "var promptTemplate = promptTemplateFactory.Create(promptTemplateConfig);\n",
    "print(await promptTemplate.RenderAsync(kernel));\n"
   ]
  },
  {
   "cell_type": "code",
   "execution_count": 63,
   "metadata": {
    "dotnet_interactive": {
     "language": "csharp"
    },
    "polyglot_notebook": {
     "kernelName": "csharp"
    },
    "vscode": {
     "languageId": "polyglot-notebook"
    }
   },
   "outputs": [
    {
     "name": "stdout",
     "output_type": "stream",
     "text": [
      "User > What is 10 plus 20?\n",
      "Assistant >  The sum of 10 and 20 is 30. In mathematical terms, you can represent this as: 10 + 20 = 30."
     ]
    }
   ],
   "source": [
    "List<string> questions = [skPrompt];\n",
    "// Create chat history\n",
    "ChatHistory history = [];\n",
    "foreach(var question in questions)\n",
    "{\n",
    "    history.AddUserMessage(question);\n",
    "    println($\"User > {question}\");\n",
    "    var result = chatService.GetStreamingChatMessageContentsAsync(\n",
    "                                history,\n",
    "                                executionSettings: executionSettings,\n",
    "                                kernel: kernel);\n",
    "\n",
    "    // Stream the results\n",
    "    string fullMessage = \"\";\n",
    "    var first = true;\n",
    "    await foreach (var content in result)\n",
    "    {\n",
    "        if (content.Role.HasValue && first)\n",
    "        {\n",
    "            print(\"Assistant > \");\n",
    "            first = false;\n",
    "        }\n",
    "        print(content.Content);\n",
    "        fullMessage += content.Content;\n",
    "    }\n",
    "\n",
    "    // Add the message from the agent to the chat history\n",
    "    history.AddAssistantMessage(fullMessage);\n",
    "\n",
    "    // Another approach: Get the response not in streaming mode\n",
    "    // var response = await chatService.GetChatMessageContentAsync(question, executionSettings, kernel: kernel);\n",
    "    // response.Display();\n",
    "    // println(response.Content);\n",
    "}"
   ]
  }
 ],
 "metadata": {
  "kernelspec": {
   "display_name": ".NET (C#)",
   "language": "C#",
   "name": ".net-csharp"
  },
  "language_info": {
   "name": "python"
  },
  "polyglot_notebook": {
   "kernelInfo": {
    "defaultKernelName": "csharp",
    "items": [
     {
      "aliases": [],
      "name": "csharp"
     }
    ]
   }
  }
 },
 "nbformat": 4,
 "nbformat_minor": 2
}
