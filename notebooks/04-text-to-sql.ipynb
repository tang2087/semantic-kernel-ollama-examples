{
 "cells": [
  {
   "cell_type": "markdown",
   "metadata": {},
   "source": [
    "# 04. Text to SQL\n",
    "This tutorial shows you how to use LLMs to translate text to SQL for data analytics purpose with Semantic Kernel."
   ]
  },
  {
   "cell_type": "markdown",
   "metadata": {
    "vscode": {
     "languageId": "plaintext"
    }
   },
   "source": [
    "## Prerequisites\n",
    "\n",
    "Refer to [01-get-started.ipynb](./01-get-started.ipynb) to install Ollama."
   ]
  },
  {
   "cell_type": "markdown",
   "metadata": {},
   "source": [
    "## Install Semantic Kernel\n",
    "\n",
    "Run the following cell to install the packages."
   ]
  },
  {
   "cell_type": "code",
   "execution_count": 1,
   "metadata": {
    "dotnet_interactive": {
     "language": "csharp"
    },
    "polyglot_notebook": {
     "kernelName": "csharp"
    },
    "vscode": {
     "languageId": "polyglot-notebook"
    }
   },
   "outputs": [
    {
     "data": {
      "text/html": [
       "<div><div></div><div></div><div><strong>Installed Packages</strong><ul><li><span>Microsoft.SemanticKernel, 1.11.1</span></li></ul></div></div>"
      ]
     },
     "metadata": {},
     "output_type": "display_data"
    }
   ],
   "source": [
    "#r \"nuget: Microsoft.SemanticKernel, 1.11.1\""
   ]
  },
  {
   "cell_type": "markdown",
   "metadata": {
    "vscode": {
     "languageId": "polyglot-notebook"
    }
   },
   "source": [
    "## Instantiate the kernel"
   ]
  },
  {
   "cell_type": "code",
   "execution_count": 2,
   "metadata": {
    "dotnet_interactive": {
     "language": "csharp"
    },
    "polyglot_notebook": {
     "kernelName": "csharp"
    },
    "vscode": {
     "languageId": "polyglot-notebook"
    }
   },
   "outputs": [],
   "source": [
    "#pragma warning disable SKEXP0010\n",
    "using Microsoft.SemanticKernel;\n",
    "using Kernel = Microsoft.SemanticKernel.Kernel;\n",
    "\n",
    "// We use Mistral for this tutorial \n",
    "var modelId = \"mistral\";\n",
    "// local Ollama endpoint\n",
    "var endpoint = new Uri(\"http://localhost:11434\");\n",
    "\n",
    "var kernelBuilder = Kernel.CreateBuilder();\n",
    "var kernel = kernelBuilder\n",
    "    .AddOpenAIChatCompletion(\n",
    "        modelId,\n",
    "        endpoint,\n",
    "        apiKey:null) \n",
    "    .Build();\n",
    "\n",
    "#pragma warning restore SKEXP0010"
   ]
  },
  {
   "cell_type": "markdown",
   "metadata": {
    "vscode": {
     "languageId": "polyglot-notebook"
    }
   },
   "source": [
    "##  Example code\n",
    "\n",
    "The following example creates a prompt template and then return SQL statements that will be used for data analytics."
   ]
  },
  {
   "cell_type": "code",
   "execution_count": 35,
   "metadata": {
    "dotnet_interactive": {
     "language": "csharp"
    },
    "polyglot_notebook": {
     "kernelName": "csharp"
    },
    "vscode": {
     "languageId": "polyglot-notebook"
    }
   },
   "outputs": [],
   "source": [
    "using Microsoft.SemanticKernel.ChatCompletion;\n",
    "using Microsoft.SemanticKernel;\n",
    "using Microsoft.SemanticKernel.Connectors.OpenAI;\n",
    "using Microsoft.SemanticKernel.TemplateEngine;\n",
    "\n",
    "var chatService = kernel.GetRequiredService<IChatCompletionService>();\n",
    "\n",
    "var executionSettings = new OpenAIPromptExecutionSettings\n",
    "{\n",
    "    MaxTokens = 2000,\n",
    "    Temperature = 0,\n",
    "};\n",
    "\n",
    "var skPrompt = \"\"\"\n",
    "\n",
    "You are a data analytics AI assistant from Kontext.\n",
    "\n",
    "In a SQL Server database you are working with, the following tables \\\n",
    "were created with the following schema:\n",
    "\n",
    "```\n",
    "CREATE TABLE \"Customers\" (\n",
    "    \"CustomerId\" INTEGER NOT NULL, \n",
    "    \"FirstName\" NVARCHAR(40) NOT NULL, \n",
    "    \"LastName\" NVARCHAR(20) NOT NULL, \n",
    "    PRIMARY KEY (\"CustomerId\"),\n",
    ")\n",
    "\n",
    "CREATE TABLE \"Accounts\" (\n",
    "    \"AccountId\" INTEGER NOT NULL, \n",
    "    \"Balance\" DECIMAL NOT NULL,\n",
    "    PRIMARY KEY (\"AccountId\"),\n",
    ")\n",
    "\n",
    "CREATE TABLE \"CustomerAccounts\" (\n",
    "    \"CustomerId\" INTEGER NOT NULL, \n",
    "    \"AccountId\" INTEGER NOT NULL, \n",
    "    PRIMARY KEY (\"CustomerId\", \"AccountId\"),\n",
    "    FOREIGN KEY(\"CustomerId\") REFERENCES \"Customers\" (\"CustomerId\")\n",
    "    FOREIGN KEY(\"AccountId\") REFERENCES \"Accounts\" (\"AccountId\")\n",
    ")\n",
    "\n",
    "```\n",
    "\n",
    "You need to write SQL code to answer the following question, \n",
    "which is delimited with triple backticks. \\\n",
    "\n",
    "Provide the answer as JSON object ONLY with key `sql` and the SQL code as the value.\n",
    "\n",
    "Question: ```{{$question}}```\n",
    "\"\"\";\n"
   ]
  },
  {
   "cell_type": "code",
   "execution_count": 36,
   "metadata": {
    "dotnet_interactive": {
     "language": "csharp"
    },
    "polyglot_notebook": {
     "kernelName": "csharp"
    },
    "vscode": {
     "languageId": "polyglot-notebook"
    }
   },
   "outputs": [
    {
     "data": {
      "text/plain": [
       "SQL code for answering question: What is the first name of the customer with ID 123?"
      ]
     },
     "metadata": {},
     "output_type": "display_data"
    },
    {
     "data": {
      "text/plain": [
       " {\"sql\": \"SELECT FirstName FROM Customers WHERE CustomerId = 123\"}"
      ]
     },
     "metadata": {},
     "output_type": "display_data"
    },
    {
     "data": {
      "text/plain": [
       "SQL code for answering question: How many accounts does the customer with ID 123 have?"
      ]
     },
     "metadata": {},
     "output_type": "display_data"
    },
    {
     "data": {
      "text/plain": [
       " {\"sql\": \"SELECT COUNT(*) FROM CustomerAccounts WHERE CustomerId = 123;\"}"
      ]
     },
     "metadata": {},
     "output_type": "display_data"
    },
    {
     "data": {
      "text/plain": [
       "SQL code for answering question: What is the total balance of customer with ID 123?"
      ]
     },
     "metadata": {},
     "output_type": "display_data"
    },
    {
     "data": {
      "text/plain": [
       " {\"sql\": \"SELECT SUM(Accounts.Balance) FROM Accounts INNER JOIN CustomerAccounts ON Accounts.AccountId = CustomerAccounts.AccountId WHERE Customers.CustomerId = 123 AND CustomerAccounts.CustomerId = 123\"}"
      ]
     },
     "metadata": {},
     "output_type": "display_data"
    }
   ],
   "source": [
    "// Now let's directly invoke the prompt template with argument to get the response.\n",
    "\n",
    "var getTableNamesAsync = async (string question) =>\n",
    "{\n",
    "    var sql =  await kernel.InvokePromptAsync<string>(skPrompt, new() { [\"question\"] = question });\n",
    "    display($\"SQL code for answering question: {question}\");\n",
    "    display(sql);\n",
    "};\n",
    "\n",
    "await getTableNamesAsync(\"What is the first name of the customer with ID 123?\");\n",
    "await getTableNamesAsync(\"How many accounts does the customer with ID 123 have?\");\n",
    "await getTableNamesAsync(\"What is the total balance of customer with ID 123?\");"
   ]
  }
 ],
 "metadata": {
  "kernelspec": {
   "display_name": ".NET (C#)",
   "language": "C#",
   "name": ".net-csharp"
  },
  "language_info": {
   "name": "python"
  },
  "polyglot_notebook": {
   "kernelInfo": {
    "defaultKernelName": "csharp",
    "items": [
     {
      "aliases": [],
      "name": "csharp"
     }
    ]
   }
  }
 },
 "nbformat": 4,
 "nbformat_minor": 2
}
